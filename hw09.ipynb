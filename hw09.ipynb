{
 "cells": [
  {
   "cell_type": "markdown",
   "id": "bbea800c-241d-42b4-a744-ecaffe13959e",
   "metadata": {},
   "source": [
    "# Metadata\n",
    "\n",
    "```yaml\n",
    "Course:  DS 5100\n",
    "Module:  09 Python Packages\n",
    "Topic:   HW Package Booklover\n",
    "Author:  R.C. Alvarado (adapted)\n",
    "Date:    10 October 2022 (revised)\n",
    "```"
   ]
  },
  {
   "attachments": {},
   "cell_type": "markdown",
   "id": "36f46fdd-2405-4dc8-9ea1-33f395e56cc0",
   "metadata": {},
   "source": [
    "# Student Info\n",
    "\n",
    "* Name: Shawn Feng\n",
    "* Net UD: sf8dc\n",
    "* URL of this file in GitHub: https://github.com/zeitgeistf/DS5100-2023-01-sf8dc/blob/main/lessons/M09/hw09.ipynb"
   ]
  },
  {
   "cell_type": "markdown",
   "id": "375875a8-1503-46eb-8ea1-7e5bf39b5c41",
   "metadata": {},
   "source": [
    "# Instructions\n",
    "\n",
    "In your **private course repo on Rivanna**, use this Jupyter notebook and the data file described to write code that performs the tasks below. \n",
    "\n",
    "Save your notebook in the `M09` directory.\n",
    "\n",
    "Remember to add and commit these files to your repo. \n",
    "\n",
    "Then push your commits to your repo on GitHib.\n",
    "\n",
    "Be sure to fill out the **Student Info** block above.\n",
    "\n",
    "To submit your homework, save your results as a PDF and upload it to GradeScope. More information about how to create the PDF for this assignment are included at the end of this document.\n",
    "\n",
    "**TOTAL POINTS: 8**"
   ]
  },
  {
   "cell_type": "markdown",
   "id": "1baf08dc-35fe-44f1-bc26-7e1130ee993e",
   "metadata": {},
   "source": [
    "# Overview\n",
    "\n",
    "Follow the following recipe we used in class to package the code you wrote for `HW08` -- `booklover.py` and `booklover_test.py`.\n",
    "\n",
    "* Create a new git repo for your package.\n",
    "* Create and edit the required files and directories for your package and move the booklover modules there.\n",
    "* Stage, commit, and push all the files you've created.\n",
    "* Install your package with pip.\n",
    "* Outside of your package dir, write a script to test your method.\n",
    "\n",
    "Put this notebook in your repo. This will allow you to execute bash commands and capture the outpunt directly in the notebook.\n",
    "\n",
    "**TOTAL: 8 POINTS**"
   ]
  },
  {
   "cell_type": "markdown",
   "id": "6e39ba79-49ee-41e8-9e49-23d9d6bac2e0",
   "metadata": {
    "tags": []
   },
   "source": [
    "# Tasks"
   ]
  },
  {
   "cell_type": "markdown",
   "id": "fb11de14",
   "metadata": {},
   "source": [
    "## Task 1\n",
    "\n",
    "(5 points)\n",
    "\n",
    "Show the directory structure of your repo by running this command from the root of your repo:"
   ]
  },
  {
   "cell_type": "code",
   "execution_count": 1,
   "id": "7e6c6607",
   "metadata": {},
   "outputs": [
    {
     "name": "stdout",
     "output_type": "stream",
     "text": [
      "total 40\n",
      "-rw-r--r--  1 shawnfeng  staff  1059 Apr  2 16:09 LICENSE\n",
      "-rw-r--r--  1 shawnfeng  staff    11 Apr  2 16:09 README.md\n",
      "drwxr-xr-x  4 shawnfeng  staff   128 Apr  2 15:50 \u001b[1m\u001b[36mbooklover\u001b[m\u001b[m\n",
      "drwxr-xr-x  7 shawnfeng  staff   224 Apr  2 16:15 \u001b[1m\u001b[36mbooklover.egg-info\u001b[m\u001b[m\n",
      "-rw-r--r--  1 shawnfeng  staff  5328 Apr  2 16:17 hw09.ipynb\n",
      "-rw-r--r--  1 shawnfeng  staff   311 Apr  2 16:15 setup.py\n",
      "drwxr-xr-x  4 shawnfeng  staff   128 Apr  2 15:50 \u001b[1m\u001b[36mtests\u001b[m\u001b[m\n",
      "\n",
      "./booklover:\n",
      "total 8\n",
      "-rw-r--r--  1 shawnfeng  staff     0 Apr  2 15:50 __init__.py\n",
      "-rw-r--r--  1 shawnfeng  staff  2090 Apr  2 15:48 booklover.py\n",
      "\n",
      "./booklover.egg-info:\n",
      "total 40\n",
      "-rw-r--r--  1 shawnfeng  staff  194 Apr  2 16:15 PKG-INFO\n",
      "-rw-r--r--  1 shawnfeng  staff  235 Apr  2 16:15 SOURCES.txt\n",
      "-rw-r--r--  1 shawnfeng  staff    1 Apr  2 16:15 dependency_links.txt\n",
      "-rw-r--r--  1 shawnfeng  staff    7 Apr  2 16:15 requires.txt\n",
      "-rw-r--r--  1 shawnfeng  staff   10 Apr  2 16:15 top_level.txt\n",
      "\n",
      "./tests:\n",
      "total 16\n",
      "-rw-r--r--  1 shawnfeng  staff   313 Apr  2 16:00 __init__.py\n",
      "-rw-r--r--  1 shawnfeng  staff  4084 Apr  2 15:48 booklover_test.py\n"
     ]
    }
   ],
   "source": [
    "!ls -lR"
   ]
  },
  {
   "cell_type": "markdown",
   "id": "6b6f288b-05aa-441b-8c73-84b50b3b6844",
   "metadata": {},
   "source": [
    "## Task 2\n",
    "\n",
    "(1 point)\n",
    "\n",
    "Put the URL of your GitHub repo here. Just paste it into a Markdown cell."
   ]
  },
  {
   "attachments": {},
   "cell_type": "markdown",
   "id": "4d09d889-6104-4f20-b31c-2d8a72b17693",
   "metadata": {},
   "source": [
    "URL: https://github.com/zeitgeistf/booklover"
   ]
  },
  {
   "cell_type": "markdown",
   "id": "f989dcd1-b1d2-4eb9-8ef6-8ca2d8495260",
   "metadata": {
    "lines_to_next_cell": 0
   },
   "source": [
    "## Task 3\n",
    "\n",
    "(1 point)\n",
    "\n",
    "Show the results of installing your package.\n",
    "\n",
    "```bash\n",
    "!pip install -e .\n",
    "```"
   ]
  },
  {
   "cell_type": "code",
   "execution_count": 11,
   "id": "fe0ef41c",
   "metadata": {},
   "outputs": [
    {
     "name": "stdout",
     "output_type": "stream",
     "text": [
      "Obtaining file:///Users/sf/Desktop/me/msds/s1/booklover\n",
      "  Preparing metadata (setup.py) ... \u001b[?25ldone\n",
      "\u001b[?25hRequirement already satisfied: pandas in ./.venv/lib/python3.9/site-packages (from booklover==0.1.0) (1.5.3)\n",
      "Requirement already satisfied: python-dateutil>=2.8.1 in ./.venv/lib/python3.9/site-packages (from pandas->booklover==0.1.0) (2.8.2)\n",
      "Requirement already satisfied: pytz>=2020.1 in ./.venv/lib/python3.9/site-packages (from pandas->booklover==0.1.0) (2023.3)\n",
      "Requirement already satisfied: numpy>=1.20.3 in ./.venv/lib/python3.9/site-packages (from pandas->booklover==0.1.0) (1.24.2)\n",
      "Requirement already satisfied: six>=1.5 in ./.venv/lib/python3.9/site-packages (from python-dateutil>=2.8.1->pandas->booklover==0.1.0) (1.16.0)\n",
      "Installing collected packages: booklover\n",
      "  Attempting uninstall: booklover\n",
      "    Found existing installation: booklover 0.1.0\n",
      "    Uninstalling booklover-0.1.0:\n",
      "      Successfully uninstalled booklover-0.1.0\n",
      "  Running setup.py develop for booklover\n",
      "Successfully installed booklover-0.1.0\n"
     ]
    }
   ],
   "source": [
    "!pip install -e ."
   ]
  },
  {
   "cell_type": "markdown",
   "id": "5b1a642e-74f0-43ff-97a3-9ddc7553978e",
   "metadata": {},
   "source": [
    "## Task 4\n",
    "\n",
    "(1 point)\n",
    "\n",
    "Create a file outside your repo to test your package by running it.\n",
    "\n",
    "To do this, import the package into your file and create a BookLover object.\n",
    "\n",
    "Then add a book and then print number books read.\n",
    "\n",
    "Then run the file. \n",
    "\n",
    "Show the output of running the file below, using a command like the following:\n",
    "\n",
    "```bash\n",
    "!python ../book_lover_demo.py\n",
    "```"
   ]
  },
  {
   "cell_type": "code",
   "execution_count": 12,
   "id": "5924fca8-6483-4f2b-a33f-6550d1726d6e",
   "metadata": {},
   "outputs": [
    {
     "name": "stdout",
     "output_type": "stream",
     "text": [
      "1\n"
     ]
    }
   ],
   "source": [
    "!python ../book_lover_demo.py"
   ]
  },
  {
   "attachments": {},
   "cell_type": "markdown",
   "id": "4dfa2e34",
   "metadata": {},
   "source": [
    "Code from book_lover_demo.py script for reference\n",
    "\n",
    "```bash\n",
    "from booklover import BookLover\n",
    "\n",
    "bl = BookLover('Shawn', 'shawnsfeng@gmail.com', 'Scifi')\n",
    "bl.add_book('The art of Titanfall', 3)\n",
    "print(bl.num_books_read())\n",
    "\n",
    "```"
   ]
  },
  {
   "cell_type": "code",
   "execution_count": null,
   "id": "6b6b103a",
   "metadata": {},
   "outputs": [],
   "source": []
  }
 ],
 "metadata": {
  "jupytext": {
   "cell_metadata_filter": "-all",
   "main_language": "bash",
   "notebook_metadata_filter": "-all"
  },
  "kernelspec": {
   "display_name": "Python 3.8.3 ('base')",
   "language": "python",
   "name": "python3"
  },
  "language_info": {
   "codemirror_mode": {
    "name": "ipython",
    "version": 3
   },
   "file_extension": ".py",
   "mimetype": "text/x-python",
   "name": "python",
   "nbconvert_exporter": "python",
   "pygments_lexer": "ipython3",
   "version": "3.9.6"
  },
  "vscode": {
   "interpreter": {
    "hash": "c3b963de08c47c3b6758389c5e0978ad73698a111eb508d4e16b558edb8f4cbf"
   }
  },
  "widgets": {
   "application/vnd.jupyter.widget-state+json": {
    "state": {},
    "version_major": 2,
    "version_minor": 0
   }
  }
 },
 "nbformat": 4,
 "nbformat_minor": 5
}
